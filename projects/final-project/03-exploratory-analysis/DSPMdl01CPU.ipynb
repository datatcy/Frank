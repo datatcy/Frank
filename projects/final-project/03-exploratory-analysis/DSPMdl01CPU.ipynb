{
 "cells": [
  {
   "cell_type": "code",
   "execution_count": 7,
   "metadata": {
    "collapsed": true
   },
   "outputs": [],
   "source": [
    "import pandas as pd\n",
    "\n",
    "mdl = pd.read_csv('dataset/DSProjectData.csv', skipinitialspace=True, low_memory=False)\n",
    "\n",
    "mdl['Date'] = pd.to_datetime(mdl['Date'])\n",
    "mdl.set_index('Date', inplace=True)\n",
    "\n",
    "#data.set_index('Date', inplace=True)\n",
    "#data['Year'] = data.index.year\n",
    "#data['Month'] = data.index.month\n",
    "#eda_time['Year']=eda_time.i\n",
    "mdl['Month']= mdl.index.month\n",
    "mdl['Day']=mdl.index.day\n",
    "\n",
    "#eda_time01(['CPU %'].dropna()).astype(float)\n"
   ]
  },
  {
   "cell_type": "code",
   "execution_count": 8,
   "metadata": {},
   "outputs": [
    {
     "name": "stderr",
     "output_type": "stream",
     "text": [
      "/Users/francispaulraj/anaconda2/lib/python2.7/site-packages/ipykernel_launcher.py:4: FutureWarning: 'pandas.tools.plotting.autocorrelation_plot' is deprecated, import 'pandas.plotting.autocorrelation_plot' instead.\n",
      "  after removing the cwd from sys.path.\n"
     ]
    },
    {
     "data": {
      "text/plain": [
       "<matplotlib.axes._subplots.AxesSubplot at 0x1c1c6cd6d0>"
      ]
     },
     "execution_count": 8,
     "metadata": {},
     "output_type": "execute_result"
    }
   ],
   "source": [
    "mdl01=mdl[mdl['Server Name']=='CALBIPRD01']\n",
    "from pandas.tools.plotting import autocorrelation_plot\n",
    "\n",
    "autocorrelation_plot(mdl01['CPU %'].dropna(),color='red')"
   ]
  },
  {
   "cell_type": "code",
   "execution_count": 9,
   "metadata": {},
   "outputs": [
    {
     "data": {
      "text/plain": [
       "<matplotlib.axes._subplots.AxesSubplot at 0x1c1c7b69d0>"
      ]
     },
     "execution_count": 9,
     "metadata": {},
     "output_type": "execute_result"
    }
   ],
   "source": [
    "autoc = []\n",
    "\n",
    "for i in range(11):\n",
    "    autoc.append(mdl01['CPU %'].resample('M').mean().autocorr(lag=1*i))\n",
    "                 \n",
    "df = pd.DataFrame(autoc)\n",
    "df.plot(figsize=(50,10), fontsize=30, legend=True, color ='red', linewidth=7.0)"
   ]
  },
  {
   "cell_type": "code",
   "execution_count": 10,
   "metadata": {},
   "outputs": [
    {
     "data": {
      "image/png": "[encoded data removed]",
      "text/plain": [
       "<matplotlib.figure.Figure at 0x1c1c7aec50>"
      ]
     },
     "execution_count": 10,
     "metadata": {},
     "output_type": "execute_result"
    }
   ],
   "source": [
    "from statsmodels.graphics.tsaplots import plot_acf\n",
    "plot_acf(mdl01['CPU %'].dropna(), lags=25)"
   ]
  },
  {
   "cell_type": "code",
   "execution_count": null,
   "metadata": {
    "collapsed": true
   },
   "outputs": [],
   "source": []
  },
  {
   "cell_type": "code",
   "execution_count": null,
   "metadata": {
    "collapsed": true
   },
   "outputs": [],
   "source": []
  }
 ],
 "metadata": {
  "kernelspec": {
   "display_name": "Python 2",
   "language": "python",
   "name": "python2"
  },
  "language_info": {
   "codemirror_mode": {
    "name": "ipython",
    "version": 2
   },
   "file_extension": ".py",
   "mimetype": "text/x-python",
   "name": "python",
   "nbconvert_exporter": "python",
   "pygments_lexer": "ipython2",
   "version": "2.7.14"
  }
 },
 "nbformat": 4,
 "nbformat_minor": 2
}
